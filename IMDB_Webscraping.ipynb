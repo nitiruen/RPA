{
  "nbformat": 4,
  "nbformat_minor": 0,
  "metadata": {
    "colab": {
      "name": "IMDB_Webscraping.ipynb",
      "provenance": [],
      "collapsed_sections": [],
      "authorship_tag": "ABX9TyNjtUM0pXK9lD245sgSAyRT",
      "include_colab_link": true
    },
    "kernelspec": {
      "name": "python3",
      "display_name": "Python 3"
    }
  },
  "cells": [
    {
      "cell_type": "markdown",
      "metadata": {
        "id": "view-in-github",
        "colab_type": "text"
      },
      "source": [
        "<a href=\"https://colab.research.google.com/github/nitiruen/banana/blob/master/IMDB_Webscraping.ipynb\" target=\"_parent\"><img src=\"https://colab.research.google.com/assets/colab-badge.svg\" alt=\"Open In Colab\"/></a>"
      ]
    },
    {
      "cell_type": "code",
      "metadata": {
        "id": "yvreLKD85Jev"
      },
      "source": [
        "import urllib\n",
        "from urllib.request import urlopen\n",
        "from bs4 import BeautifulSoup"
      ],
      "execution_count": 5,
      "outputs": []
    },
    {
      "cell_type": "code",
      "metadata": {
        "id": "QnubC0sU5gQH"
      },
      "source": [
        "url = 'https://www.imdb.com/chart/top/'\n",
        "\n",
        "html = urlopen(url)\n",
        "soup = BeautifulSoup(html, 'html.parser')"
      ],
      "execution_count": 11,
      "outputs": []
    },
    {
      "cell_type": "code",
      "metadata": {
        "id": "Khj2EuJU7LN9"
      },
      "source": [
        "#print(soup)"
      ],
      "execution_count": 14,
      "outputs": []
    },
    {
      "cell_type": "code",
      "metadata": {
        "id": "gjCgQ1jV52wa",
        "outputId": "10b51ca2-0804-487d-c0e5-386d01215c17",
        "colab": {
          "base_uri": "https://localhost:8080/",
          "height": 35
        }
      },
      "source": [
        "table = soup.find_all('td', attrs={'class', 'titleColumn'})\n",
        "table[0].text"
      ],
      "execution_count": 38,
      "outputs": [
        {
          "output_type": "execute_result",
          "data": {
            "application/vnd.google.colaboratory.intrinsic+json": {
              "type": "string"
            },
            "text/plain": [
              "'\\n      1.\\n      The Shawshank Redemption\\n(1994)\\n'"
            ]
          },
          "metadata": {
            "tags": []
          },
          "execution_count": 38
        }
      ]
    },
    {
      "cell_type": "code",
      "metadata": {
        "id": "Q25a2nyHCcwQ",
        "outputId": "a0c4c601-ade8-4b64-d330-9b9edc6e0754",
        "colab": {
          "base_uri": "https://localhost:8080/",
          "height": 1000
        }
      },
      "source": [
        "result = []\n",
        "for t in table:\n",
        "  line = t.text.strip().split('\\n')\n",
        "  #print(line[1].lstrip())\n",
        "  result.append(line[1].lstrip())\n",
        "result"
      ],
      "execution_count": 59,
      "outputs": [
        {
          "output_type": "execute_result",
          "data": {
            "text/plain": [
              "['The Shawshank Redemption',\n",
              " 'The Godfather',\n",
              " 'The Godfather: Part II',\n",
              " 'The Dark Knight',\n",
              " '12 Angry Men',\n",
              " \"Schindler's List\",\n",
              " 'The Lord of the Rings: The Return of the King',\n",
              " 'Pulp Fiction',\n",
              " 'The Good, the Bad and the Ugly',\n",
              " 'The Lord of the Rings: The Fellowship of the Ring',\n",
              " 'Fight Club',\n",
              " 'Forrest Gump',\n",
              " 'Inception',\n",
              " 'The Lord of the Rings: The Two Towers',\n",
              " 'Star Wars: Episode V - The Empire Strikes Back',\n",
              " 'The Matrix',\n",
              " 'Goodfellas',\n",
              " \"One Flew Over the Cuckoo's Nest\",\n",
              " 'Seven Samurai',\n",
              " 'Se7en',\n",
              " 'Life Is Beautiful',\n",
              " 'City of God',\n",
              " 'The Silence of the Lambs',\n",
              " \"It's a Wonderful Life\",\n",
              " 'Star Wars: Episode IV - A New Hope',\n",
              " 'Saving Private Ryan',\n",
              " 'Spirited Away',\n",
              " 'The Green Mile',\n",
              " 'Parasite',\n",
              " 'Interstellar',\n",
              " 'Léon: The Professional',\n",
              " 'The Usual Suspects',\n",
              " 'Harakiri',\n",
              " 'The Lion King',\n",
              " 'Back to the Future',\n",
              " 'The Pianist',\n",
              " 'Terminator 2: Judgment Day',\n",
              " 'American History X',\n",
              " 'Modern Times',\n",
              " 'Psycho',\n",
              " 'Gladiator',\n",
              " 'City Lights',\n",
              " 'The Departed',\n",
              " 'Hamilton',\n",
              " 'The Intouchables',\n",
              " 'Whiplash',\n",
              " 'The Prestige',\n",
              " 'Grave of the Fireflies',\n",
              " 'Once Upon a Time in the West',\n",
              " 'Casablanca',\n",
              " 'Cinema Paradiso',\n",
              " 'Rear Window',\n",
              " 'Alien',\n",
              " 'Apocalypse Now',\n",
              " 'Memento',\n",
              " 'Raiders of the Lost Ark',\n",
              " 'The Great Dictator',\n",
              " 'Django Unchained',\n",
              " 'The Lives of Others',\n",
              " 'Joker',\n",
              " 'Paths of Glory',\n",
              " 'WALL·E',\n",
              " 'The Shining',\n",
              " 'Avengers: Infinity War',\n",
              " 'Sunset Blvd.',\n",
              " 'Witness for the Prosecution',\n",
              " 'Spider-Man: Into the Spider-Verse',\n",
              " 'Princess Mononoke',\n",
              " 'Oldboy',\n",
              " 'Dr. Strangelove or: How I Learned to Stop Worrying and Love the Bomb',\n",
              " 'The Dark Knight Rises',\n",
              " 'Once Upon a Time in America',\n",
              " 'Aliens',\n",
              " 'Your Name.',\n",
              " 'Avengers: Endgame',\n",
              " 'Coco',\n",
              " 'American Beauty',\n",
              " 'Braveheart',\n",
              " '3 Idiots',\n",
              " 'Das Boot',\n",
              " 'Toy Story',\n",
              " 'High and Low',\n",
              " 'Amadeus',\n",
              " 'Capharnaüm',\n",
              " 'Taare Zameen Par',\n",
              " 'Star Wars: Episode VI - Return of the Jedi',\n",
              " 'Inglourious Basterds',\n",
              " 'Reservoir Dogs',\n",
              " 'Good Will Hunting',\n",
              " '2001: A Space Odyssey',\n",
              " 'Requiem for a Dream',\n",
              " 'Vertigo',\n",
              " 'M',\n",
              " 'Dangal',\n",
              " 'Eternal Sunshine of the Spotless Mind',\n",
              " 'The Hunt',\n",
              " 'Citizen Kane',\n",
              " '1917',\n",
              " 'Full Metal Jacket',\n",
              " 'Bicycle Thieves',\n",
              " 'The Kid',\n",
              " \"Singin' in the Rain\",\n",
              " 'A Clockwork Orange',\n",
              " 'North by Northwest',\n",
              " 'Snatch',\n",
              " 'Scarface',\n",
              " 'Taxi Driver',\n",
              " 'Ikiru',\n",
              " 'Lawrence of Arabia',\n",
              " 'Amélie',\n",
              " 'Toy Story 3',\n",
              " 'The Sting',\n",
              " 'Metropolis',\n",
              " 'A Separation',\n",
              " 'Incendies',\n",
              " 'For a Few Dollars More',\n",
              " 'Come and See',\n",
              " 'The Apartment',\n",
              " 'Double Indemnity',\n",
              " 'To Kill a Mockingbird',\n",
              " 'Up',\n",
              " 'Indiana Jones and the Last Crusade',\n",
              " 'L.A. Confidential',\n",
              " 'Heat',\n",
              " 'Die Hard',\n",
              " 'Monty Python and the Holy Grail',\n",
              " 'Rashômon',\n",
              " 'Yojimbo',\n",
              " 'Batman Begins',\n",
              " 'Green Book',\n",
              " 'Children of Heaven',\n",
              " 'Downfall',\n",
              " 'Unforgiven',\n",
              " 'Ran',\n",
              " 'Some Like It Hot',\n",
              " \"Howl's Moving Castle\",\n",
              " 'A Beautiful Mind',\n",
              " 'All About Eve',\n",
              " 'Casino',\n",
              " 'The Great Escape',\n",
              " 'The Wolf of Wall Street',\n",
              " \"Pan's Labyrinth\",\n",
              " 'Anand',\n",
              " 'The Secret in Their Eyes',\n",
              " 'Lock, Stock and Two Smoking Barrels',\n",
              " 'Raging Bull',\n",
              " 'My Neighbor Totoro',\n",
              " 'There Will Be Blood',\n",
              " 'Judgment at Nuremberg',\n",
              " 'The Treasure of the Sierra Madre',\n",
              " 'Three Billboards Outside Ebbing, Missouri',\n",
              " 'Dial M for Murder',\n",
              " 'Chinatown',\n",
              " 'The Gold Rush',\n",
              " 'Babam ve Oglum',\n",
              " 'Shutter Island',\n",
              " 'No Country for Old Men',\n",
              " 'V for Vendetta',\n",
              " 'The Seventh Seal',\n",
              " 'Inside Out',\n",
              " 'Warrior',\n",
              " 'The Elephant Man',\n",
              " 'The Thing',\n",
              " 'The Sixth Sense',\n",
              " 'Trainspotting',\n",
              " 'Jurassic Park',\n",
              " 'Gone with the Wind',\n",
              " 'The Truman Show',\n",
              " 'Wild Strawberries',\n",
              " 'Finding Nemo',\n",
              " 'Blade Runner',\n",
              " 'Stalker',\n",
              " 'Kill Bill: Vol. 1',\n",
              " 'Room',\n",
              " 'The Bridge on the River Kwai',\n",
              " 'Fargo',\n",
              " 'Memories of Murder',\n",
              " 'The Third Man',\n",
              " 'Tokyo Story',\n",
              " 'Gran Torino',\n",
              " 'On the Waterfront',\n",
              " 'Wild Tales',\n",
              " 'The Deer Hunter',\n",
              " 'Klaus',\n",
              " 'In the Name of the Father',\n",
              " 'Mary and Max',\n",
              " 'Gone Girl',\n",
              " 'Andhadhun',\n",
              " 'The Grand Budapest Hotel',\n",
              " 'Hacksaw Ridge',\n",
              " 'Before Sunrise',\n",
              " 'Catch Me If You Can',\n",
              " 'The Big Lebowski',\n",
              " 'Persona',\n",
              " 'Prisoners',\n",
              " 'To Be or Not to Be',\n",
              " 'The Bandit',\n",
              " 'Sherlock Jr.',\n",
              " 'The General',\n",
              " 'Ford v Ferrari',\n",
              " 'How to Train Your Dragon',\n",
              " 'Mr. Smith Goes to Washington',\n",
              " '12 Years a Slave',\n",
              " 'Barry Lyndon',\n",
              " 'Mad Max: Fury Road',\n",
              " 'Stand by Me',\n",
              " 'Million Dollar Baby',\n",
              " 'Network',\n",
              " 'Cool Hand Luke',\n",
              " 'Dead Poets Society',\n",
              " 'Ben-Hur',\n",
              " \"Hachi: A Dog's Tale\",\n",
              " 'Harry Potter and the Deathly Hallows: Part 2',\n",
              " 'Platoon',\n",
              " 'Into the Wild',\n",
              " 'Logan',\n",
              " \"Monty Python's Life of Brian\",\n",
              " 'Rush',\n",
              " 'The Wages of Fear',\n",
              " 'The Handmaiden',\n",
              " 'The Passion of Joan of Arc',\n",
              " 'The 400 Blows',\n",
              " 'Andrei Rublev',\n",
              " 'Hotel Rwanda',\n",
              " 'Spotlight',\n",
              " 'Amores Perros',\n",
              " 'Rififi',\n",
              " 'La Haine',\n",
              " 'Nausicaä of the Valley of the Wind',\n",
              " 'Rocky',\n",
              " 'Gangs of Wasseypur',\n",
              " 'Monsters, Inc.',\n",
              " 'Rang De Basanti',\n",
              " 'Rebecca',\n",
              " 'Before Sunset',\n",
              " 'Portrait of a Lady on Fire',\n",
              " 'In the Mood for Love',\n",
              " 'Paris, Texas',\n",
              " 'It Happened One Night',\n",
              " 'Drishyam',\n",
              " 'The Invisible Guest',\n",
              " 'The Help',\n",
              " 'The Princess Bride',\n",
              " 'The Circus',\n",
              " 'The Battle of Algiers',\n",
              " 'The Terminator',\n",
              " 'Aladdin',\n",
              " 'Tangerines',\n",
              " 'A Silent Voice: The Movie',\n",
              " 'Three Colors: Red']"
            ]
          },
          "metadata": {
            "tags": []
          },
          "execution_count": 59
        }
      ]
    },
    {
      "cell_type": "code",
      "metadata": {
        "id": "HuDyJSeWE2I4"
      },
      "source": [
        ""
      ],
      "execution_count": null,
      "outputs": []
    }
  ]
}